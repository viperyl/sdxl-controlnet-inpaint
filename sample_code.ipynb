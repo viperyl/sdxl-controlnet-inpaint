{
 "cells": [
  {
   "cell_type": "code",
   "execution_count": null,
   "metadata": {},
   "outputs": [],
   "source": [
    "from diffusers import ControlNetModel, AutoencoderKL, EulerAncestralDiscreteScheduler\n",
    "from pipeline_test import StableDiffusionXLInpaintControlNetPipeline\n",
    "from diffusers.utils import load_image\n",
    "from PIL import Image\n",
    "import numpy as np\n",
    "import torch\n",
    "import cv2"
   ]
  },
  {
   "cell_type": "code",
   "execution_count": null,
   "metadata": {},
   "outputs": [],
   "source": [
    "controlnet = ControlNetModel.from_pretrained(\n",
    "    \"diffusers/controlnet-sdxl-1.0\",\n",
    "    torch_dtype=torch.float16\n",
    ")\n",
    "vae = AutoencoderKL.from_pretrained(\"madebyollin/sdxl-vae-fp16-fix\", torch_dtype=torch.float16)\n",
    "pipe = StableDiffusionXLInpaintControlNetPipeline.from_pretrained(\n",
    "    \"stabilityai/stable-diffusion-xl-base-1.0\",\n",
    "    controlnet=controlnet,\n",
    "    torch_dtype=torch.float16,\n",
    ")\n",
    "pipe.enable_model_cpu_offload()"
   ]
  },
  {
   "cell_type": "code",
   "execution_count": null,
   "metadata": {},
   "outputs": [],
   "source": [
    "prompt = \"aerial view, a futuristic research complex in a bright foggy jungle, hard lighting\"\n",
    "negative_prompt = 'low quality, bad quality, sketches'\n",
    "\n",
    "image = load_image(\"/home/viper/Result/Week25/input.jpg\")\n",
    "mask = load_image(\"/home/viper/Result/Week25/mask.jpg\")\n",
    "\n",
    "controlnet_conditioning_scale = 0.5  # recommended for good generalization\n",
    "\n",
    "c_image = np.array(mask)\n",
    "c_image = cv2.Canny(c_image, 100, 200)\n",
    "c_image = c_image[:, :, None]\n",
    "c_image = np.concatenate([c_image, c_image, c_image], axis=2)\n",
    "c_image = Image.fromarray(c_image)\n",
    "\n",
    "generator = torch.Generator(device=\"cuda\").manual_seed(1145141919)\n",
    "\n",
    "pipe.scheduler = EulerAncestralDiscreteScheduler.from_config(pipe.scheduler.config)\n",
    "images = pipe(\n",
    "                prompt, \n",
    "                negative_prompt=negative_prompt,\n",
    "                image=image, \n",
    "                mask_image=mask, \n",
    "                control_image=c_image,\n",
    "                num_inference_steps=50,\n",
    "                generator=generator\n",
    "    ).images\n",
    "\n",
    "images[0].save(f\"/home/viper/Result/Week26/ci-final.png\")"
   ]
  },
  {
   "cell_type": "code",
   "execution_count": null,
   "metadata": {},
   "outputs": [],
   "source": []
  }
 ],
 "metadata": {
  "kernelspec": {
   "display_name": "hfn",
   "language": "python",
   "name": "python3"
  },
  "language_info": {
   "codemirror_mode": {
    "name": "ipython",
    "version": 3
   },
   "file_extension": ".py",
   "mimetype": "text/x-python",
   "name": "python",
   "nbconvert_exporter": "python",
   "pygments_lexer": "ipython3",
   "version": "3.11.4"
  },
  "orig_nbformat": 4
 },
 "nbformat": 4,
 "nbformat_minor": 2
}
